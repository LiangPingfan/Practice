{
 "cells": [
  {
   "cell_type": "code",
   "execution_count": 55,
   "id": "minute-maker",
   "metadata": {},
   "outputs": [],
   "source": [
    "import pandas as pd\n",
    "import numpy as np\n",
    "import matplotlib.pyplot as plt\n",
    "\n",
    "plt.style.use('ggplot')\n",
    "color_r = '#EA4335'\n",
    "color_g = '#34A853'\n",
    "color_b = '#4285F4'\n",
    "color_y = '#FBBC05'"
   ]
  },
  {
   "cell_type": "code",
   "execution_count": 56,
   "id": "explicit-porter",
   "metadata": {},
   "outputs": [],
   "source": [
    "x = np.array([50,60,70,75,90,100]) \n",
    "y = np.array([60,100,120,100,120,180])"
   ]
  },
  {
   "cell_type": "code",
   "execution_count": 57,
   "id": "abroad-norman",
   "metadata": {},
   "outputs": [],
   "source": [
    "x_predict = 80"
   ]
  },
  {
   "cell_type": "code",
   "execution_count": 58,
   "id": "historic-sullivan",
   "metadata": {},
   "outputs": [],
   "source": [
    "def plot(x,y):\n",
    "    plt.figure(figsize = (10,6))\n",
    "    plt.scatter(x,y,c=color_r,s=200)\n",
    "    plt.xlabel('房屋面积')\n",
    "    plt.ylabel('房价')\n",
    "    \n",
    "    plt.tight_layout()\n",
    "    plt.legend(loc='lower right')"
   ]
  },
  {
   "cell_type": "code",
   "execution_count": 59,
   "id": "automotive-professor",
   "metadata": {},
   "outputs": [
    {
     "name": "stderr",
     "output_type": "stream",
     "text": [
      "D:\\Python\\envs\\pytroch\\lib\\site-packages\\matplotlib\\backends\\backend_agg.py:238: RuntimeWarning: Glyph 25151 missing from current font.\n",
      "  font.set_text(s, 0.0, flags=flags)\n",
      "D:\\Python\\envs\\pytroch\\lib\\site-packages\\matplotlib\\backends\\backend_agg.py:238: RuntimeWarning: Glyph 23627 missing from current font.\n",
      "  font.set_text(s, 0.0, flags=flags)\n",
      "D:\\Python\\envs\\pytroch\\lib\\site-packages\\matplotlib\\backends\\backend_agg.py:238: RuntimeWarning: Glyph 38754 missing from current font.\n",
      "  font.set_text(s, 0.0, flags=flags)\n",
      "D:\\Python\\envs\\pytroch\\lib\\site-packages\\matplotlib\\backends\\backend_agg.py:238: RuntimeWarning: Glyph 31215 missing from current font.\n",
      "  font.set_text(s, 0.0, flags=flags)\n",
      "D:\\Python\\envs\\pytroch\\lib\\site-packages\\matplotlib\\backends\\backend_agg.py:238: RuntimeWarning: Glyph 20215 missing from current font.\n",
      "  font.set_text(s, 0.0, flags=flags)\n",
      "No handles with labels found to put in legend.\n",
      "D:\\Python\\envs\\pytroch\\lib\\site-packages\\matplotlib\\backends\\backend_agg.py:201: RuntimeWarning: Glyph 25151 missing from current font.\n",
      "  font.set_text(s, 0, flags=flags)\n",
      "D:\\Python\\envs\\pytroch\\lib\\site-packages\\matplotlib\\backends\\backend_agg.py:201: RuntimeWarning: Glyph 23627 missing from current font.\n",
      "  font.set_text(s, 0, flags=flags)\n",
      "D:\\Python\\envs\\pytroch\\lib\\site-packages\\matplotlib\\backends\\backend_agg.py:201: RuntimeWarning: Glyph 38754 missing from current font.\n",
      "  font.set_text(s, 0, flags=flags)\n",
      "D:\\Python\\envs\\pytroch\\lib\\site-packages\\matplotlib\\backends\\backend_agg.py:201: RuntimeWarning: Glyph 31215 missing from current font.\n",
      "  font.set_text(s, 0, flags=flags)\n",
      "D:\\Python\\envs\\pytroch\\lib\\site-packages\\matplotlib\\backends\\backend_agg.py:201: RuntimeWarning: Glyph 20215 missing from current font.\n",
      "  font.set_text(s, 0, flags=flags)\n"
     ]
    },
    {
     "data": {
      "image/png": "[encoded data removed]",
      "text/plain": [
       "<Figure size 720x432 with 1 Axes>"
      ]
     },
     "metadata": {},
     "output_type": "display_data"
    }
   ],
   "source": [
    "plot(x,y)"
   ]
  },
  {
   "cell_type": "code",
   "execution_count": 60,
   "id": "representative-numbers",
   "metadata": {},
   "outputs": [],
   "source": [
    "x_mean = np.mean(x)\n",
    "y_mean = np.mean(y)"
   ]
  },
  {
   "cell_type": "code",
   "execution_count": 66,
   "id": "bound-marking",
   "metadata": {},
   "outputs": [],
   "source": [
    "num = 0\n",
    "dom = 0\n",
    "\n",
    "for x_i, y_i in zip(x,y):\n",
    "    num += (x_i - x_mean) * (y_i - y_mean)\n",
    "    dom += (x_i - x_mean)**2"
   ]
  },
  {
   "cell_type": "code",
   "execution_count": 67,
   "id": "bronze-senior",
   "metadata": {},
   "outputs": [
    {
     "data": {
      "text/plain": [
       "1.8983050847457625"
      ]
     },
     "execution_count": 67,
     "metadata": {},
     "output_type": "execute_result"
    }
   ],
   "source": [
    "a = num/dom\n",
    "b = y_mean - a * x_mean\n",
    "\n",
    "a\n"
   ]
  },
  {
   "cell_type": "code",
   "execution_count": 68,
   "id": "subject-milwaukee",
   "metadata": {},
   "outputs": [
    {
     "data": {
      "text/plain": [
       "124.40677966101696"
      ]
     },
     "execution_count": 68,
     "metadata": {},
     "output_type": "execute_result"
    }
   ],
   "source": [
    "y_predict = a * x_predict + b\n",
    "y_predict"
   ]
  },
  {
   "cell_type": "code",
   "execution_count": 69,
   "id": "circular-majority",
   "metadata": {},
   "outputs": [
    {
     "data": {
      "text/plain": [
       "array([ 67.45762712,  86.44067797, 105.42372881, 114.91525424,\n",
       "       143.38983051, 162.37288136])"
      ]
     },
     "execution_count": 69,
     "metadata": {},
     "output_type": "execute_result"
    }
   ],
   "source": [
    "y_pre = a * x + b\n",
    "y_pre"
   ]
  },
  {
   "cell_type": "code",
   "execution_count": 70,
   "id": "modular-portugal",
   "metadata": {},
   "outputs": [
    {
     "name": "stderr",
     "output_type": "stream",
     "text": [
      "No handles with labels found to put in legend.\n"
     ]
    },
    {
     "data": {
      "text/plain": [
       "<matplotlib.legend.Legend at 0x1bb76aecdf0>"
      ]
     },
     "execution_count": 70,
     "metadata": {},
     "output_type": "execute_result"
    },
    {
     "name": "stderr",
     "output_type": "stream",
     "text": [
      "D:\\Python\\envs\\pytroch\\lib\\site-packages\\matplotlib\\backends\\backend_agg.py:238: RuntimeWarning: Glyph 25151 missing from current font.\n",
      "  font.set_text(s, 0.0, flags=flags)\n",
      "D:\\Python\\envs\\pytroch\\lib\\site-packages\\matplotlib\\backends\\backend_agg.py:238: RuntimeWarning: Glyph 23627 missing from current font.\n",
      "  font.set_text(s, 0.0, flags=flags)\n",
      "D:\\Python\\envs\\pytroch\\lib\\site-packages\\matplotlib\\backends\\backend_agg.py:238: RuntimeWarning: Glyph 38754 missing from current font.\n",
      "  font.set_text(s, 0.0, flags=flags)\n",
      "D:\\Python\\envs\\pytroch\\lib\\site-packages\\matplotlib\\backends\\backend_agg.py:238: RuntimeWarning: Glyph 31215 missing from current font.\n",
      "  font.set_text(s, 0.0, flags=flags)\n",
      "D:\\Python\\envs\\pytroch\\lib\\site-packages\\matplotlib\\backends\\backend_agg.py:238: RuntimeWarning: Glyph 20215 missing from current font.\n",
      "  font.set_text(s, 0.0, flags=flags)\n",
      "D:\\Python\\envs\\pytroch\\lib\\site-packages\\matplotlib\\backends\\backend_agg.py:238: RuntimeWarning: Glyph 19975 missing from current font.\n",
      "  font.set_text(s, 0.0, flags=flags)\n",
      "D:\\Python\\envs\\pytroch\\lib\\site-packages\\matplotlib\\backends\\backend_agg.py:238: RuntimeWarning: Glyph 20803 missing from current font.\n",
      "  font.set_text(s, 0.0, flags=flags)\n",
      "D:\\Python\\envs\\pytroch\\lib\\site-packages\\matplotlib\\backends\\backend_agg.py:201: RuntimeWarning: Glyph 25151 missing from current font.\n",
      "  font.set_text(s, 0, flags=flags)\n",
      "D:\\Python\\envs\\pytroch\\lib\\site-packages\\matplotlib\\backends\\backend_agg.py:201: RuntimeWarning: Glyph 23627 missing from current font.\n",
      "  font.set_text(s, 0, flags=flags)\n",
      "D:\\Python\\envs\\pytroch\\lib\\site-packages\\matplotlib\\backends\\backend_agg.py:201: RuntimeWarning: Glyph 38754 missing from current font.\n",
      "  font.set_text(s, 0, flags=flags)\n",
      "D:\\Python\\envs\\pytroch\\lib\\site-packages\\matplotlib\\backends\\backend_agg.py:201: RuntimeWarning: Glyph 31215 missing from current font.\n",
      "  font.set_text(s, 0, flags=flags)\n",
      "D:\\Python\\envs\\pytroch\\lib\\site-packages\\matplotlib\\backends\\backend_agg.py:201: RuntimeWarning: Glyph 20215 missing from current font.\n",
      "  font.set_text(s, 0, flags=flags)\n",
      "D:\\Python\\envs\\pytroch\\lib\\site-packages\\matplotlib\\backends\\backend_agg.py:201: RuntimeWarning: Glyph 19975 missing from current font.\n",
      "  font.set_text(s, 0, flags=flags)\n",
      "D:\\Python\\envs\\pytroch\\lib\\site-packages\\matplotlib\\backends\\backend_agg.py:201: RuntimeWarning: Glyph 20803 missing from current font.\n",
      "  font.set_text(s, 0, flags=flags)\n"
     ]
    },
    {
     "data": {
      "image/png": "[encoded data removed]",
      "text/plain": [
       "<Figure size 720x432 with 1 Axes>"
      ]
     },
     "metadata": {},
     "output_type": "display_data"
    }
   ],
   "source": [
    "plot(x,y) #红色样本点\n",
    "plt.plot(x,y_pre,c=color_g) #绿色回归线\n",
    "plt.scatter(x_predict,y_predict,c=color_g,s=200,label='125万元') #80平方待预测值\n",
    "plt.legend(loc='lower right')\n"
   ]
  },
  {
   "cell_type": "code",
   "execution_count": 100,
   "id": "based-diving",
   "metadata": {},
   "outputs": [],
   "source": [
    "num = (x-x_mean).dot(y-y_mean)\n",
    "dom = (x-x_mean).dot(x-x_mean)"
   ]
  },
  {
   "cell_type": "code",
   "execution_count": 101,
   "id": "logical-candy",
   "metadata": {},
   "outputs": [
    {
     "data": {
      "text/plain": [
       "1.8983050847457625"
      ]
     },
     "execution_count": 101,
     "metadata": {},
     "output_type": "execute_result"
    }
   ],
   "source": [
    "a = num/dom\n",
    "a"
   ]
  },
  {
   "cell_type": "code",
   "execution_count": 102,
   "id": "monetary-trunk",
   "metadata": {},
   "outputs": [
    {
     "data": {
      "text/plain": [
       "-27.457627118644055"
      ]
     },
     "execution_count": 102,
     "metadata": {},
     "output_type": "execute_result"
    }
   ],
   "source": [
    "b =  y_mean - x_mean * a \n",
    "b"
   ]
  },
  {
   "cell_type": "code",
   "execution_count": 103,
   "id": "static-scheme",
   "metadata": {},
   "outputs": [],
   "source": [
    " x_predict =np.array([55,90])"
   ]
  },
  {
   "cell_type": "code",
   "execution_count": 104,
   "id": "conventional-darwin",
   "metadata": {},
   "outputs": [
    {
     "data": {
      "text/plain": [
       "array([ 76.94915254, 143.38983051])"
      ]
     },
     "execution_count": 104,
     "metadata": {},
     "output_type": "execute_result"
    }
   ],
   "source": [
    "y_predict = x_predict * a + b\n",
    "\n",
    "y_pre = x * a + b\n",
    "\n",
    "y_predict"
   ]
  },
  {
   "cell_type": "code",
   "execution_count": 105,
   "id": "given-class",
   "metadata": {},
   "outputs": [
    {
     "name": "stderr",
     "output_type": "stream",
     "text": [
      "No handles with labels found to put in legend.\n"
     ]
    },
    {
     "data": {
      "text/plain": [
       "[<matplotlib.lines.Line2D at 0x1bb77b1aca0>]"
      ]
     },
     "execution_count": 105,
     "metadata": {},
     "output_type": "execute_result"
    },
    {
     "name": "stderr",
     "output_type": "stream",
     "text": [
      "D:\\Python\\envs\\pytroch\\lib\\site-packages\\matplotlib\\backends\\backend_agg.py:238: RuntimeWarning: Glyph 25151 missing from current font.\n",
      "  font.set_text(s, 0.0, flags=flags)\n",
      "D:\\Python\\envs\\pytroch\\lib\\site-packages\\matplotlib\\backends\\backend_agg.py:238: RuntimeWarning: Glyph 23627 missing from current font.\n",
      "  font.set_text(s, 0.0, flags=flags)\n",
      "D:\\Python\\envs\\pytroch\\lib\\site-packages\\matplotlib\\backends\\backend_agg.py:238: RuntimeWarning: Glyph 38754 missing from current font.\n",
      "  font.set_text(s, 0.0, flags=flags)\n",
      "D:\\Python\\envs\\pytroch\\lib\\site-packages\\matplotlib\\backends\\backend_agg.py:238: RuntimeWarning: Glyph 31215 missing from current font.\n",
      "  font.set_text(s, 0.0, flags=flags)\n",
      "D:\\Python\\envs\\pytroch\\lib\\site-packages\\matplotlib\\backends\\backend_agg.py:238: RuntimeWarning: Glyph 20215 missing from current font.\n",
      "  font.set_text(s, 0.0, flags=flags)\n",
      "D:\\Python\\envs\\pytroch\\lib\\site-packages\\matplotlib\\backends\\backend_agg.py:201: RuntimeWarning: Glyph 25151 missing from current font.\n",
      "  font.set_text(s, 0, flags=flags)\n",
      "D:\\Python\\envs\\pytroch\\lib\\site-packages\\matplotlib\\backends\\backend_agg.py:201: RuntimeWarning: Glyph 23627 missing from current font.\n",
      "  font.set_text(s, 0, flags=flags)\n",
      "D:\\Python\\envs\\pytroch\\lib\\site-packages\\matplotlib\\backends\\backend_agg.py:201: RuntimeWarning: Glyph 38754 missing from current font.\n",
      "  font.set_text(s, 0, flags=flags)\n",
      "D:\\Python\\envs\\pytroch\\lib\\site-packages\\matplotlib\\backends\\backend_agg.py:201: RuntimeWarning: Glyph 31215 missing from current font.\n",
      "  font.set_text(s, 0, flags=flags)\n",
      "D:\\Python\\envs\\pytroch\\lib\\site-packages\\matplotlib\\backends\\backend_agg.py:201: RuntimeWarning: Glyph 20215 missing from current font.\n",
      "  font.set_text(s, 0, flags=flags)\n"
     ]
    },
    {
     "data": {
      "image/png": "[encoded data removed]",
      "text/plain": [
       "<Figure size 720x432 with 1 Axes>"
      ]
     },
     "metadata": {},
     "output_type": "display_data"
    }
   ],
   "source": [
    "plot(x,y)\n",
    "plt.scatter(x_predict,y_predict, color = color_g, s=200)\n",
    "plt.plot(x, y_pre,color = color_b)"
   ]
  },
  {
   "cell_type": "code",
   "execution_count": 107,
   "id": "conditional-burton",
   "metadata": {},
   "outputs": [
    {
     "name": "stdout",
     "output_type": "stream",
     "text": [
      "255.36723163841813\n"
     ]
    }
   ],
   "source": [
    "train_mse = np.mean((y - y_pre)**2)\n",
    "\n",
    "print(train_mse)"
   ]
  },
  {
   "cell_type": "code",
   "execution_count": null,
   "id": "resistant-grounds",
   "metadata": {},
   "outputs": [],
   "source": []
  },
  {
   "cell_type": "code",
   "execution_count": null,
   "id": "hawaiian-machinery",
   "metadata": {},
   "outputs": [],
   "source": []
  }
 ],
 "metadata": {
  "kernelspec": {
   "display_name": "Python [conda env:pytroch] *",
   "language": "python",
   "name": "conda-env-pytroch-py"
  },
  "language_info": {
   "codemirror_mode": {
    "name": "ipython",
    "version": 3
   },
   "file_extension": ".py",
   "mimetype": "text/x-python",
   "name": "python",
   "nbconvert_exporter": "python",
   "pygments_lexer": "ipython3",
   "version": "3.8.5"
  }
 },
 "nbformat": 4,
 "nbformat_minor": 5
}
